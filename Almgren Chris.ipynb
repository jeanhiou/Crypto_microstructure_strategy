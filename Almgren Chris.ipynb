{
 "cells": [
  {
   "cell_type": "code",
   "execution_count": 183,
   "metadata": {},
   "outputs": [],
   "source": [
    "import numpy as np;\n",
    "import scipy.optimize as scop;\n",
    "from functools import partial;\n",
    "import matplotlib.pyplot as plt;\n",
    "import numpy.linalg as nalg;\n"
   ]
  },
  {
   "cell_type": "markdown",
   "metadata": {},
   "source": [
    "# Almgren Chris discrete framework\n",
    "\n",
    "\n",
    "## 1 Dimension \n",
    "\n",
    "We have X shares of an asset at $t_{0} = 0$\n",
    "We want everything to be sold at t = T\n",
    "We split [0;T] into N intervals of length $\\tau = T=N$ \n",
    "and set\n",
    "$t_{k} = k \\tau$ , $k = 0,1,...,N$.\n",
    "\n",
    "A trading strategy is a vector $x_{0}$,..,$x_{N}$, with $x_{k}$ the\n",
    "number of shares we still have at time $t_{k}$.\n",
    "\n",
    "$x_{0} = X$, $x_{N} = 0$ , and $n_{k} = x_{k} - x_{k-1}$ is the number of assets sold between $t_{k-1}$ and $t_{k}$ decided at $t_{k-1}$\n",
    "\n",
    "Market impact => new price equilibrium at each time \n",
    "\n",
    "$S_{k} = S_{k-1} + \\sigma  \\tau^{\\frac{1}{2}} \\xi_{k} - \\tau g(n_{k}/\\tau)$\n",
    "where $\\xi_{k}$ are iid standard Gaussian.\n",
    "\n",
    "Trading cost $C  = X S_{0} - \\sum_{i=1}^{k} n_{k} \\tilde{S_{k}}$\n",
    "    $E[C]= \\sum_{i=1}^{k} \\tau x_{k} g(n_{k}/\\tau) + \\sum_{i=1}^{k} n_{k} h(n_{k}/\\tau)$ \n",
    "    $Var[C] = \\sigma^{2} \\sum_{k=1}^{N} \\tau x_{k}^{2}$\n",
    "    \n",
    " \n",
    "We want to minimize $E[C] + \\lambda Var[C]$ where $\\lambda$ is risk aversion parameter\n",
    "\n",
    "Take permanent impact $g(v) = \\gamma v$ \n",
    "Affine temporary impact $h(n_{k}/\\tau) = \\epsilon + \\theta(n_{k}\\tau)$ ( $\\epsilon$ = fees + spread bid-ask  = 0 in our model)\n",
    "Let $\\tilde{\\theta} = \\theta - 0.5 \\gamma \\tau$ \n",
    "\n",
    "Our cost to minimize is equal to ( $\\epsilon = 0$) \n",
    "    $0.5  \\gamma X^{2} + \\frac{\\tilde{\\theta}}{\\tau}\\sum_{k=1}^{N}(x_{k-1}-x_{k})^{2} + \\lambda \\sigma^{2} \\sum_{k=1}^{N} \\tau x_{k}^{2}$\n",
    "    \n",
    "Solution is given by:\n",
    "\n",
    "For $j = 1, ..., N$, $x_{j} = \\frac{sinh(K(T-t_{j})}{sinh(KT)} X $\n",
    "\n",
    "where K is the solution to $\\frac{2}{\\tau^{2}}(cosh(K\\tau) -1) = \\tilde{K}$ \n",
    "          \n",
    "\n"
   ]
  },
  {
   "cell_type": "code",
   "execution_count": null,
   "metadata": {},
   "outputs": [],
   "source": []
  },
  {
   "cell_type": "code",
   "execution_count": 141,
   "metadata": {},
   "outputs": [],
   "source": [
    "def K_function(x,tau,K_tilde):\n",
    "    return (np.cosh(x * tau )-1) - K_tilde * tau **2.\n",
    "\n",
    "def K_inversion(tau,K_tilde):\n",
    "    K_mini = partial(partial(K_function,tau),K_tilde);\n",
    "    sol = scop.root_scalar(K_mini, bracket=[0, 3], method='brentq')\n",
    "    return sol.root\n"
   ]
  },
  {
   "cell_type": "code",
   "execution_count": 142,
   "metadata": {},
   "outputs": [],
   "source": [
    "class Liquidation_strategy : \n",
    "    def __init__(self,T,N,volatility,risk_aversion,theta,linear_impact_rate,X):\n",
    "        self.T = T;\n",
    "        self.N = N;\n",
    "        self.theta = theta;\n",
    "        self.Initial_parts = X;\n",
    "        self.volatility = volatility;\n",
    "        self.risk_aversion = risk_aversion;\n",
    "        self.linear_impact_rate = linear_impact_rate;\n",
    " \n",
    "    def Parts_to_liquidate(self):\n",
    "        List_parts = [];\n",
    "        X = self.Initial_parts;\n",
    "        List_parts.append(X);\n",
    "        tau = self.T/self.N;\n",
    "        theta_tilde = self.theta - 0.5 * self.linear_impact_rate* tau;\n",
    "        if (self.linear_impact_rate != 0):\n",
    "            K_tilde = self.risk_aversion * (self.volatility) ** 2. / theta_tilde;\n",
    "            K = K_inversion(tau,K_tilde);\n",
    "        else:\n",
    "            K = 0.;\n",
    "            for i in range(1,self.N):\n",
    "                List_parts.append( X/self.N );\n",
    "            return List_parts;\n",
    "        \n",
    "        for i in range(1,self.N):\n",
    "                List_parts.append( 2 * np.sinh(K*tau*0.5)/np.sinh(K*self.T)*np.cosh(K*(self.T - i * tau + tau/2)) * X )\n",
    "        return List_parts;\n",
    "\n",
    "    \n"
   ]
  },
  {
   "cell_type": "code",
   "execution_count": 149,
   "metadata": {},
   "outputs": [],
   "source": [
    "L = Liquidation_strategy(6,6,0.2,10,0.2,1.,1e3)\n",
    "M = L.Parts_to_liquidate();"
   ]
  },
  {
   "cell_type": "code",
   "execution_count": 150,
   "metadata": {},
   "outputs": [
    {
     "data": {
      "text/plain": [
       "[1000.0,\n",
       " 440.50181688021985,\n",
       " 247.9059919333485,\n",
       " 140.6467426290368,\n",
       " 81.80226255898087,\n",
       " 51.116541025401986]"
      ]
     },
     "execution_count": 150,
     "metadata": {},
     "output_type": "execute_result"
    }
   ],
   "source": [
    "M"
   ]
  },
  {
   "cell_type": "code",
   "execution_count": 151,
   "metadata": {},
   "outputs": [
    {
     "data": {
      "image/png": "[encoded data removed]",
      "text/plain": [
       "<Figure size 432x288 with 1 Axes>"
      ]
     },
     "metadata": {
      "needs_background": "light"
     },
     "output_type": "display_data"
    }
   ],
   "source": [
    "plt.plot([i for i in range(0,6)],M)\n",
    "plt.show()"
   ]
  },
  {
   "cell_type": "markdown",
   "metadata": {},
   "source": [
    "## Multi dimensional framework\n",
    "### ( d = 3 case only for the example)\n"
   ]
  },
  {
   "cell_type": "markdown",
   "metadata": {},
   "source": [
    "$S_{k}$ now follows a multidimensional arithmetic brownian motion random walk with zero drift.\n",
    "Let $\\xi_{k} = (\\xi_{1k},....,\\xi_{rk})^{T}$ be a vector of $r \\leq m$ independant Brownian increments, with $\\sigma$ a $m \\times r$ additive volatility matrix. $S2 = \\sigma \\sigma^{T}$ symetric positive definite variance-covariance matrix\n",
    "\n",
    "Permantent impact $g(v) = \\Gamma v$\n",
    "Affine temporary impact $h(v) = \\epsilon \\times sgn(v) + H v $\n",
    "\n",
    "$\\Gamma$ and $H$  $m \\times m$ matrix, $\\epsilon m \\times 1$ column ( Again we suppose here $\\epsilon \\equiv 0$)\n",
    "\n",
    "$E[C] = 0.5 * X^{T} \\gamma^{S} X + \\sum_{k=1}^{N} \\tau v_{k}^{T}\\tilde{H}v_{k} + \\sum_{k=1}^{N} \\tau x_{k}^{T} \\gamma^{A}v_{k}$\n",
    "$V[C] = \\sum_{k=1}^{N} \\tau x_{k}^{T} S2 x_{k}$\n",
    "\n",
    "$\\tilde{H} = H^{S} - 0.5 * \\Gamma^{S}$\n",
    "$H^{S} = 0.5 ( H + H^{T})$ \n",
    "$H^{A} = H - H^{S} $\n",
    "\n",
    "By denoting $y_{k} = \\tilde{H}^{0.5} x_{k}$ we obtain the following equation solving the minimization problem\n",
    "\n",
    "$\\frac{y_{k-1} - 2 y_{k} + y_{k+1}}{\\tau^{2}} = \\lambda A y_{k} + B \\frac{ y_{k-1} - y_{k+1}}{2\\tau}$\n",
    "where $A = \\tilde{H}^{-0.5} S2 \\tilde{H}^{0.5}$  and  $B = \\tilde{H}^{-0.5} \\Gamma^{A} \\tilde{H}^{0.5}$\n",
    "We obtain a (N-1)m linear system we can solve\n",
    "\n",
    "\n",
    "Indeed we have $( A - \\frac{2}{\\tau^{2}}) y_{k} + ( 1 + \\frac{2}{\\tau} B) y_{k+1} + (1 - \\frac{2}{\\tau} B) y_{k-1}$ = 0\n",
    "We know the first value 0 $y_{0} = \\tilde{H}^{0.5} x_{0} = \\tilde{H}^{0.5} X$.\n",
    "Then by denoting $Y = (y1,....,y_{N})^{T}$ we end up on a linear system with a laplacian form of matrix composed of $m \\times m$ matrix.\n"
   ]
  },
  {
   "cell_type": "code",
   "execution_count": 314,
   "metadata": {},
   "outputs": [],
   "source": [
    "\n",
    "def remplir(M,N,A,B,tau):\n",
    "    E = ( A - 2/tau**2 * np.identity(M))\n",
    "    F = ( B/(2 * tau) + np.identity(M))\n",
    "    D = ( B/(2*tau) - np.identity(M))\n",
    "    O = np.zeros((M,M));\n",
    "    return np.block([[E,F,O,O,O,O],[D,E,F,O,O,O],[O,D,E,F,O,O],[O,O,D,E,F,O],[O,O,O,D,E,F],[O,O,O,O,D,E]]);\n",
    "\n",
    "class Liquidation_strategy_m : \n",
    "    def __init__(self,m,T,N,volatility,H,risk_aversion,theta,linear_impact_rate,X_m):\n",
    "        self.T = T;\n",
    "        self.N = N;\n",
    "        self.m = m;\n",
    "        self.theta = theta;\n",
    "        self.H = H;\n",
    "        self.Initial_parts = X_m;\n",
    "        self.volatility = volatility;\n",
    "        self.risk_aversion = risk_aversion;\n",
    "        self.linear_impact_rate = linear_impact_rate;\n",
    "        self.X_m = X_m;\n",
    "    \n",
    "    def Parts_to_liquidate(self):\n",
    "        N = self.N;\n",
    "        tau = self.T/self.N;\n",
    "        S2 = self.volatility.dot(self.volatility);\n",
    "        H_S = 0.5 * ( self.H + (self.H).T)\n",
    "        Gamma = self.linear_impact_rate;\n",
    "        Gamma_S = 0.5 * ( Gamma + Gamma.T)\n",
    "        H_tilde = H_S - 0.5 * tau * Gamma_S;\n",
    "        H_tilde_sqrt = np.sqrt(H_tilde);\n",
    "        H_tilde_sqrt_inv = nalg.inv(H_tilde_sqrt);\n",
    "        A = H_tilde_sqrt_inv  * S2 * H_tilde_sqrt_inv \n",
    "        B = H_tilde_sqrt_inv  * ( Gamma - Gamma_S) * H_tilde_sqrt_inv \n",
    "        y_0 = np.dot(H_tilde_sqrt,self.X_m.T);\n",
    "        m = self.m;\n",
    "        Y_vector = np.zeros((N* m ,1));\n",
    "        X_sol = np.zeros((N*m,1));\n",
    "        R = remplir(m,N,A,B,tau);\n",
    "        Y_vector[0:m] = - np.dot(( np.identity(m) - 2/tau *B),y_0) ;\n",
    "        print(Y_vector);\n",
    "        Y_sol = nalg.solve(R, Y_vector);\n",
    "        for i in range(0,self.T):\n",
    "            X_sol[m*i:m*(i+1)] = np.dot(nalg.inv(H_tilde_sqrt),Y_sol[m*i:m*(i+1)])\n",
    "        return X_sol;\n",
    "            \n"
   ]
  },
  {
   "cell_type": "code",
   "execution_count": 315,
   "metadata": {},
   "outputs": [],
   "source": [
    "m = 4 ;\n",
    "T = 6;\n",
    "N = 6;\n",
    "volatility = 0.2 * np.identity(m);\n",
    "H = 0.3 * np.identity(m);\n",
    "risk_aversion =  3.;\n",
    "theta = 2.;\n",
    "linear_impact_rate = 1e-3 * np.identity(m);\n",
    "X_m = np.array([[1e3,2e3,3e3,4e3]])\n",
    "\n",
    "\n",
    "L = Liquidation_strategy_m(m,T,N,volatility,H,risk_aversion,theta,linear_impact_rate,X_m);"
   ]
  },
  {
   "cell_type": "code",
   "execution_count": 316,
   "metadata": {},
   "outputs": [
    {
     "name": "stdout",
     "output_type": "stream",
     "text": [
      "[[ -547.2659317]\n",
      " [-1094.5318634]\n",
      " [-1641.7977951]\n",
      " [-2189.0637268]\n",
      " [    0.       ]\n",
      " [    0.       ]\n",
      " [    0.       ]\n",
      " [    0.       ]\n",
      " [    0.       ]\n",
      " [    0.       ]\n",
      " [    0.       ]\n",
      " [    0.       ]\n",
      " [    0.       ]\n",
      " [    0.       ]\n",
      " [    0.       ]\n",
      " [    0.       ]\n",
      " [    0.       ]\n",
      " [    0.       ]\n",
      " [    0.       ]\n",
      " [    0.       ]\n",
      " [    0.       ]\n",
      " [    0.       ]\n",
      " [    0.       ]\n",
      " [    0.       ]]\n"
     ]
    },
    {
     "data": {
      "text/plain": [
       "array([[ 434.56421163],\n",
       "       [ 869.12842327],\n",
       "       [1303.6926349 ],\n",
       "       [1738.25684653],\n",
       "       [-188.91020266],\n",
       "       [-377.82040532],\n",
       "       [-566.73060799],\n",
       "       [-755.64081065],\n",
       "       [  81.97388346],\n",
       "       [ 163.94776692],\n",
       "       [ 245.92165038],\n",
       "       [ 327.89553383],\n",
       "       [ -35.9105337 ],\n",
       "       [ -71.82106741],\n",
       "       [-107.73160111],\n",
       "       [-143.64213481],\n",
       "       [  14.94888065],\n",
       "       [  29.89776131],\n",
       "       [  44.84664196],\n",
       "       [  59.79552262],\n",
       "       [  -8.009284  ],\n",
       "       [ -16.018568  ],\n",
       "       [ -24.027852  ],\n",
       "       [ -32.037136  ]])"
      ]
     },
     "execution_count": 316,
     "metadata": {},
     "output_type": "execute_result"
    }
   ],
   "source": [
    "L.Parts_to_liquidate()"
   ]
  },
  {
   "cell_type": "code",
   "execution_count": null,
   "metadata": {},
   "outputs": [],
   "source": []
  },
  {
   "cell_type": "code",
   "execution_count": null,
   "metadata": {},
   "outputs": [],
   "source": []
  }
 ],
 "metadata": {
  "kernelspec": {
   "display_name": "Python 3",
   "language": "python",
   "name": "python3"
  },
  "language_info": {
   "codemirror_mode": {
    "name": "ipython",
    "version": 3
   },
   "file_extension": ".py",
   "mimetype": "text/x-python",
   "name": "python",
   "nbconvert_exporter": "python",
   "pygments_lexer": "ipython3",
   "version": "3.7.4"
  }
 },
 "nbformat": 4,
 "nbformat_minor": 2
}
